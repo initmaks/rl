{
  "cells": [
    {
      "cell_type": "markdown",
      "metadata": {},
      "source": [
        "\n# Using Replay Buffers\n\n**Author**: [Vincent Moens](https://github.com/vmoens)\n"
      ]
    },
    {
      "cell_type": "markdown",
      "metadata": {},
      "source": [
        "Replay buffers are a central piece of any RL or control algorithm.\nSupervised learning methods are usually characterized by a training loop\nwhere data is randomly pulled from a static dataset and fed successively\nto the model and loss function.\nIn RL, things are often slightly different: the data is gathered using the\nmodel, then temporarily stored in a dynamic structure (the experience\nreplay buffer), which serves as dataset for the loss module.\n\nAs always, the context in which the buffer is used drastically conditions\nhow it is built: some may wish to store trajectories when others will want\nto store single transitions. Specific sampling strategies may be preferable\nin contexts: some items can have a higher priority than others, or it can\nbe important to sample with or without replacement.\nComputational factors may also come into play, such as the size of the buffer\nwhich may exceed the available RAM storage.\n\nFor these reasons, TorchRL's replay buffers are fully composable: although\nthey come with \"batteries included\", requiring a minimal effort to be built,\nthey also support many customizations such as storage type,\nsampling strategy or data transforms.\n\n\nIn this tutorial, you will learn:\n- How to build a Replay Buffer (RB) and use it with any datatype;\n- How to use RBs with TensorDict;\n- How to sample from or iterate over a replay buffer, and how to define the sampling strategy;\n- How to use prioritized replay buffers;\n- How to transform data coming in and out from the buffer;\n- How to store trajectories in the buffer.\n\n\n## Basics: building a vanilla replay buffer\n\nTorchRL's replay buffers are designed to prioritize modularity,\ncomposability, efficiency, and simplicity. For instance, creating a basic\nreplay buffer is a straightforward process, as shown in the following\nexample:\n\n\n"
      ]
    },
    {
      "cell_type": "code",
      "execution_count": null,
      "metadata": {
        "collapsed": false
      },
      "outputs": [],
      "source": [
        "import tempfile\n\nfrom torchrl.data import ReplayBuffer\n\nbuffer = ReplayBuffer()"
      ]
    },
    {
      "cell_type": "markdown",
      "metadata": {},
      "source": [
        "By default, this replay buffer will have a size of 1000. Let's check this\nby populating our buffer using the :meth:`torchrl.data.ReplayBuffer.extend`\nmethod:\n\n\n"
      ]
    },
    {
      "cell_type": "code",
      "execution_count": null,
      "metadata": {
        "collapsed": false
      },
      "outputs": [],
      "source": [
        "print(\"length before adding elements:\", len(buffer))\n\nbuffer.extend(range(2000))\n\nprint(\"length after adding elements:\", len(buffer))\n\nimport torch\nfrom tensordict import TensorDict"
      ]
    },
    {
      "cell_type": "markdown",
      "metadata": {},
      "source": [
        "We have used the :meth:`torchrl.data.ReplayBuffer.extend` method which is\ndesigned to add multiple items all at once. If the object that is passed\nto ``extend`` has more than one dimension, its first dimension is\nconsidered to be the one to be split in separate elements in the buffer.\nThis essentially means that when adding multidimensional tensors or\ntensordicts to the buffer, the buffer will only look at the first dimension\nwhen counting the elements it holds in memory.\nIf the object passed it not iterable, an exception will be thrown.\n\nTo add items one at a time, the :meth:`torchrl.data.ReplayBuffer.add` method\nshould be used instead.\n\n### Customizing the storage\n\nWe see that the buffer has been capped to the first 1000 elements that we\npassed to it.\nTo change the size, we need to customize our storage.\n\nTorchRL proposes three types of storages:\n\n- The :class:`torchrl.dataListStorage` stores elements independently in a\n  list. It supports any data type, but this flexibility comes at the cost\n  of efficiency;\n- The :class:`torchrl.dataLazyTensorStorage` stores tensors or\n  :class:`tensordidct.TensorDict` (or :class:`torchrl.data.tensorclass`)\n  objects. The storage is contiguous on a per-tensor basis, meaning that\n  sampling will be more efficient than when using a list, but the\n  implicit restriction is that any data passed to it must have the same\n  basic properties as the\n  first batch of data that was used to instantiate the buffer.\n  Passing data that does not match this requirement will either raise an\n  exception or lead to some undefined behaviours.\n- The :class:`torchrl.dataLazyMemmapStorage` works as the\n  :class:`torchrl.data.LazyTensorStorage` in that it is lazy (ie. it\n  expects the first batch of data to be instantiated), and it requires data\n  that match in shape and dtype for each batch stored. What makes this\n  storage unique is that it points to disk files, meaning that it can\n  support very large datasets while still accessing data in a contiguous\n  manner.\n\nLet us see how we can use each of these storages:\n\n"
      ]
    },
    {
      "cell_type": "code",
      "execution_count": null,
      "metadata": {
        "collapsed": false
      },
      "outputs": [],
      "source": [
        "from torchrl.data import LazyMemmapStorage, LazyTensorStorage, ListStorage\n\n# We define the maximum size of the buffer\nsize = 100"
      ]
    },
    {
      "cell_type": "markdown",
      "metadata": {},
      "source": [
        "A buffer with a list storage buffer can store any kind of data (but we must\nchange the ``collate_fn`` since the default expects numerical data):\n\n"
      ]
    },
    {
      "cell_type": "code",
      "execution_count": null,
      "metadata": {
        "collapsed": false
      },
      "outputs": [],
      "source": [
        "buffer_list = ReplayBuffer(storage=ListStorage(size), collate_fn=lambda x: x)\nbuffer_list.extend([\"a\", 0, \"b\"])\nprint(buffer_list.sample(3))"
      ]
    },
    {
      "cell_type": "markdown",
      "metadata": {},
      "source": [
        "Because it is the one with the lowest amount of assumption, the\n:class:`torchrl.data.ListStorage` is the default storage in TorchRL.\n\nA :class:`torchrl.data.LazyTensorStorage` can store data contiguously.\nThis should be the preferred option when dealing with complicated but\nunchanging data structures of medium size:\n\n"
      ]
    },
    {
      "cell_type": "code",
      "execution_count": null,
      "metadata": {
        "collapsed": false
      },
      "outputs": [],
      "source": [
        "buffer_lazytensor = ReplayBuffer(storage=LazyTensorStorage(size))"
      ]
    },
    {
      "cell_type": "markdown",
      "metadata": {},
      "source": [
        "Let us create a batch of data of size ``torch.Size([3])` with 2 tensors\nstored in it:\n\n\n"
      ]
    },
    {
      "cell_type": "code",
      "execution_count": null,
      "metadata": {
        "collapsed": false
      },
      "outputs": [],
      "source": [
        "data = TensorDict(\n    {\n        \"a\": torch.arange(12).view(3, 4),\n        (\"b\", \"c\"): torch.arange(15).view(3, 5),\n    },\n    batch_size=[3],\n)\nprint(data)"
      ]
    },
    {
      "cell_type": "markdown",
      "metadata": {},
      "source": [
        "The first call to :meth:`torchrl.data.ReplayBuffer.extend` will\ninstantiate the storage. The first dimension of the data is unbound into\nseparate datapoints:\n\n"
      ]
    },
    {
      "cell_type": "code",
      "execution_count": null,
      "metadata": {
        "collapsed": false
      },
      "outputs": [],
      "source": [
        "buffer_lazytensor.extend(data)\nprint(f\"The buffer has {len(buffer_lazytensor)} elements\")"
      ]
    },
    {
      "cell_type": "markdown",
      "metadata": {},
      "source": [
        "Let us sample from the buffer, and print the data:\n\n\n"
      ]
    },
    {
      "cell_type": "code",
      "execution_count": null,
      "metadata": {
        "collapsed": false
      },
      "outputs": [],
      "source": [
        "sample = buffer_lazytensor.sample(5)\nprint(\"samples\", sample[\"a\"], sample[\"b\", \"c\"])"
      ]
    },
    {
      "cell_type": "markdown",
      "metadata": {},
      "source": [
        "A :class:`torchrl.data.LazyMemmapStorage` is created in the same manner:\n\n\n"
      ]
    },
    {
      "cell_type": "code",
      "execution_count": null,
      "metadata": {
        "collapsed": false
      },
      "outputs": [],
      "source": [
        "buffer_lazymemmap = ReplayBuffer(storage=LazyMemmapStorage(size))\nbuffer_lazymemmap.extend(data)\nprint(f\"The buffer has {len(buffer_lazymemmap)} elements\")\nsample = buffer_lazytensor.sample(5)\nprint(\"samples: a=\", sample[\"a\"], \"\\n('b', 'c'):\", sample[\"b\", \"c\"])"
      ]
    },
    {
      "cell_type": "markdown",
      "metadata": {},
      "source": [
        "We can also customize the storage location on disk:\n\n\n"
      ]
    },
    {
      "cell_type": "code",
      "execution_count": null,
      "metadata": {
        "collapsed": false
      },
      "outputs": [],
      "source": [
        "tempdir = tempfile.TemporaryDirectory()\nbuffer_lazymemmap = ReplayBuffer(storage=LazyMemmapStorage(size, scratch_dir=tempdir))\nbuffer_lazymemmap.extend(data)\nprint(f\"The buffer has {len(buffer_lazymemmap)} elements\")\nprint(\"the 'a' tensor is stored in\", buffer_lazymemmap._storage._storage[\"a\"].filename)\nprint(\n    \"the ('b', 'c') tensor is stored in\",\n    buffer_lazymemmap._storage._storage[\"b\", \"c\"].filename,\n)"
      ]
    },
    {
      "cell_type": "markdown",
      "metadata": {},
      "source": [
        "## Integration with TensorDict\n\nThe tensor location follows the same structure as the TensorDict that\ncontains them: this makes it easy to save and load buffers during training.\n\nTo use :class:`tensordict.TensorDict` as a data carrier at its fullest\npotential, the :class:`torchrl.data.TensorDictReplayBuffer` class should\nbe used.\nOne of its key benefits is its ability to handle the organization of sampled\ndata, along with any additional information that may be required\n(such as sample indices).\nIt can be built in the same manner as a standard :class:`torchrl.data.ReplayBuffer` and can\ngenerally be used interchangeably.\n\n\n"
      ]
    },
    {
      "cell_type": "code",
      "execution_count": null,
      "metadata": {
        "collapsed": false
      },
      "outputs": [],
      "source": [
        "from torchrl.data import TensorDictReplayBuffer\n\ntempdir = tempfile.TemporaryDirectory()\nbuffer_lazymemmap = TensorDictReplayBuffer(\n    storage=LazyMemmapStorage(size, scratch_dir=tempdir), batch_size=12\n)\nbuffer_lazymemmap.extend(data)\nprint(f\"The buffer has {len(buffer_lazymemmap)} elements\")\nsample = buffer_lazymemmap.sample()\nprint(\"sample:\", sample)"
      ]
    },
    {
      "cell_type": "markdown",
      "metadata": {},
      "source": [
        "Our sample now has an extra ``\"index\"`` key that indicates what indices\nwere sampled.\nLet us have a look at these indices:\n\n"
      ]
    },
    {
      "cell_type": "code",
      "execution_count": null,
      "metadata": {
        "collapsed": false
      },
      "outputs": [],
      "source": [
        "print(sample[\"index\"])"
      ]
    },
    {
      "cell_type": "markdown",
      "metadata": {},
      "source": [
        "### Integration with tensorclass\n\nThe ReplayBuffer class and associated subclasses also work natively with\n:class:`tensordict.tensorclass` classes, which can conviniently be used to\nencode datasets in a more explicit manner:\n\n"
      ]
    },
    {
      "cell_type": "code",
      "execution_count": null,
      "metadata": {
        "collapsed": false
      },
      "outputs": [],
      "source": [
        "from tensordict import tensorclass\n\n\n@tensorclass\nclass MyData:\n    images: torch.Tensor\n    labels: torch.Tensor\n\n\ndata = MyData(\n    images=torch.randint(\n        255,\n        (10, 64, 64, 3),\n    ),\n    labels=torch.randint(100, (10,)),\n    batch_size=[10],\n)\n\ntempdir = tempfile.TemporaryDirectory()\nbuffer_lazymemmap = TensorDictReplayBuffer(\n    storage=LazyMemmapStorage(size, scratch_dir=tempdir), batch_size=12\n)\nbuffer_lazymemmap.extend(data)\nprint(f\"The buffer has {len(buffer_lazymemmap)} elements\")\nsample = buffer_lazymemmap.sample()\nprint(\"sample:\", sample)"
      ]
    },
    {
      "cell_type": "markdown",
      "metadata": {},
      "source": [
        "As expected. the data has the proper class and shape!\n\n### Integration with PyTree\n\nTorchRL's replay buffers also work with any pytree data structure.\nA PyTree is a nested structure of arbitrary depth made of dicts, lists and/or\ntuples where the leaves are tensors.\nThis means that one can store in contiguous memory any such tree structure!\nVarious storages can be used:\n:class:`~torchrl.data.replay_buffers.TensorStorage`, :class:`~torchrl.data.replay_buffers.LazyMemmapStorage`\nor :class:`~torchrl.data.replay_buffers.LazyTensorStorage` all accept this kind of data.\n\nHere is a bried demonstration of what this feature looks like:\n\n\n"
      ]
    },
    {
      "cell_type": "code",
      "execution_count": null,
      "metadata": {
        "collapsed": false
      },
      "outputs": [],
      "source": [
        "from torch.utils._pytree import tree_map\n\n\n# With pytrees, any callable can be used as a transform:\ndef transform(x):\n    # Zeros all the data in the pytree\n    return tree_map(lambda y: y * 0, x)\n\n\n# Let's build our replay buffer on disk:\nrb = ReplayBuffer(storage=LazyMemmapStorage(size), transform=transform)\ndata = {\n    \"a\": torch.randn(3),\n    \"b\": {\"c\": (torch.zeros(2), [torch.ones(1)])},\n    30: -torch.ones(()),  # non-string keys also work\n}\nrb.add(data)\n\n# The sample has a similar structure to the data (with a leading dimension of 10 for each tensor)\nsample = rb.sample(10)\n\n\n# let's check that our transform did its job:\ndef assert0(x):\n    assert (x == 0).all()\n\n\ntree_map(assert0, sample)\n\n\n# Sampling and iterating over buffers\n# -----------------------------------\n#\n# Replay Buffers support multiple sampling strategies:\n#\n# - If the batch-size is fixed and can be defined at construction time, it can\n#   be passed as keyword argument to the buffer;\n# - With a fixed batch-size, the replay buffer can be iterated over to gather\n#   samples;\n# - If the batch-size is dynamic, it can be passed to the\n#   :class:`torchrl.data.ReplayBuffer.sample` method\n#   on-the-fly.\n#\n# Sampling can be done using multithreading, but this is incompatible with the\n# last option (at it requires the buffer to know in advance the size of the\n# next batch).\n#\n# Let us see a few examples:\n#\n# Fixed batch-size\n# ~~~~~~~~~~~~~~~~\n# If the batch-size is passed during construction, it should be omited when\n# sampling:\n\ndata = MyData(\n    images=torch.randint(\n        255,\n        (10, 64, 64, 3),\n    ),\n    labels=torch.randint(100, (10,)),\n    batch_size=[10],\n)\n\nbuffer_lazymemmap = ReplayBuffer(storage=LazyMemmapStorage(size), batch_size=128)\nbuffer_lazymemmap.add(data)\nbuffer_lazymemmap.sample()  # will produces 128 identical samples"
      ]
    },
    {
      "cell_type": "markdown",
      "metadata": {},
      "source": [
        "This batch of data has the size that we wanted it to have (128).\n\nTo enable multithreaded sampling, just pass a positive integer to the\n``prefetch`` keyword argument during construction. This should speed up\nsampling considerably:\n\n"
      ]
    },
    {
      "cell_type": "code",
      "execution_count": null,
      "metadata": {
        "collapsed": false
      },
      "outputs": [],
      "source": [
        "buffer_lazymemmap = ReplayBuffer(\n    storage=LazyMemmapStorage(size), batch_size=128, prefetch=10\n)  # creates a queue of 10 elements to be prefetched in the background\nbuffer_lazymemmap.add(data)\nprint(buffer_lazymemmap.sample())"
      ]
    },
    {
      "cell_type": "markdown",
      "metadata": {},
      "source": [
        "### Fixed batch-size, iterating over the buffer\n\nWe can also iterate over the buffer like we would do with a regular\ndataloader, as long as the batch-size is predefined:\n\n"
      ]
    },
    {
      "cell_type": "code",
      "execution_count": null,
      "metadata": {
        "collapsed": false
      },
      "outputs": [],
      "source": [
        "for i, data in enumerate(buffer_lazymemmap):\n    if i == 3:\n        print(data)\n        break"
      ]
    },
    {
      "cell_type": "markdown",
      "metadata": {},
      "source": [
        "Due to the fact that our sampling technique is entirely random and does not\nprevent replacement, the iterator in question is infinite. However, we can\nmake use of the :class:`torchrl.data.replay_buffers.SamplerWithoutReplacement`\ninstead, which will transform our buffer into a finite iterator:\n\n\n"
      ]
    },
    {
      "cell_type": "code",
      "execution_count": null,
      "metadata": {
        "collapsed": false
      },
      "outputs": [],
      "source": [
        "from torchrl.data.replay_buffers.samplers import SamplerWithoutReplacement\n\nbuffer_lazymemmap = ReplayBuffer(\n    storage=LazyMemmapStorage(size), batch_size=32, sampler=SamplerWithoutReplacement()\n)"
      ]
    },
    {
      "cell_type": "markdown",
      "metadata": {},
      "source": [
        "we create a data that is big enough to get a couple of samples\n\n"
      ]
    },
    {
      "cell_type": "code",
      "execution_count": null,
      "metadata": {
        "collapsed": false
      },
      "outputs": [],
      "source": [
        "data = TensorDict(\n    {\n        \"a\": torch.arange(64).view(16, 4),\n        (\"b\", \"c\"): torch.arange(128).view(16, 8),\n    },\n    batch_size=[16],\n)\n\nbuffer_lazymemmap.extend(data)\nfor _i, _ in enumerate(buffer_lazymemmap):\n    continue\nprint(f\"A total of {_i+1} batches have been collected\")"
      ]
    },
    {
      "cell_type": "markdown",
      "metadata": {},
      "source": [
        "### Dynamic batch-size\n\nIn contrast to what we have seen earlier, the ``batch_size`` keyword\nargument can be omitted and passed directly to the `sample` method:\n\n"
      ]
    },
    {
      "cell_type": "code",
      "execution_count": null,
      "metadata": {
        "collapsed": false
      },
      "outputs": [],
      "source": [
        "buffer_lazymemmap = ReplayBuffer(\n    storage=LazyMemmapStorage(size), sampler=SamplerWithoutReplacement()\n)\nbuffer_lazymemmap.extend(data)\nprint(\"sampling 3 elements:\", buffer_lazymemmap.sample(3))\nprint(\"sampling 5 elements:\", buffer_lazymemmap.sample(5))"
      ]
    },
    {
      "cell_type": "markdown",
      "metadata": {},
      "source": [
        "## Prioritized Replay buffers\n\nTorchRL also provides an interface for prioritized replay buffers.\nThis buffer class samples data according to a priority signal that is passed\nthrough the data.\n\nAlthough this tool is compatible with non-tensordict data, we encourage\nusing TensorDict instead as it makes it possible to carry meta-data in and\nout from the buffer with little effort.\n\nLet us first see how to build a prioritized replay buffer in the generic\ncase. The $\\alpha$ and $\\beta$ hyperparameters\nhave to be manually set:\n\n"
      ]
    },
    {
      "cell_type": "code",
      "execution_count": null,
      "metadata": {
        "collapsed": false
      },
      "outputs": [],
      "source": [
        "from torchrl.data.replay_buffers.samplers import PrioritizedSampler\n\nsize = 100\n\nrb = ReplayBuffer(\n    storage=ListStorage(size),\n    sampler=PrioritizedSampler(max_capacity=size, alpha=0.8, beta=1.1),\n    collate_fn=lambda x: x,\n)"
      ]
    },
    {
      "cell_type": "markdown",
      "metadata": {},
      "source": [
        "Extending the replay buffer returns the items indices, which we will need\nlater to update the priority:\n\n"
      ]
    },
    {
      "cell_type": "code",
      "execution_count": null,
      "metadata": {
        "collapsed": false
      },
      "outputs": [],
      "source": [
        "indices = rb.extend([1, \"foo\", None])"
      ]
    },
    {
      "cell_type": "markdown",
      "metadata": {},
      "source": [
        "The sampler expects to have a priority for each element. When added to the\nbuffer, the priority is set to a default value of 1. Once the priority has\nbeen computed (usually through the loss), it must be updated in the buffer.\n\nThis is done via the `update_priority` method, which requires the indices\nas well as the priority.\nWe assign an artificially high priority to the second sample in the dataset\nto observe its effect on sampling:\n\n\n"
      ]
    },
    {
      "cell_type": "code",
      "execution_count": null,
      "metadata": {
        "collapsed": false
      },
      "outputs": [],
      "source": [
        "rb.update_priority(index=indices, priority=torch.tensor([0, 1_000, 0.1]))"
      ]
    },
    {
      "cell_type": "markdown",
      "metadata": {},
      "source": [
        "We observe that sampling from the buffer returns mostly the second sample\n(``\"foo\"``):\n\n\n"
      ]
    },
    {
      "cell_type": "code",
      "execution_count": null,
      "metadata": {
        "collapsed": false
      },
      "outputs": [],
      "source": [
        "sample, info = rb.sample(10, return_info=True)\nprint(sample)"
      ]
    },
    {
      "cell_type": "markdown",
      "metadata": {},
      "source": [
        "The info contains the relative weights of the items as well as the indices.\n\n"
      ]
    },
    {
      "cell_type": "code",
      "execution_count": null,
      "metadata": {
        "collapsed": false
      },
      "outputs": [],
      "source": [
        "print(info)"
      ]
    },
    {
      "cell_type": "markdown",
      "metadata": {},
      "source": [
        "We see that using a prioritized replay buffer requires a series of extra\nsteps in the training loop compared with a regular buffer:\n- After collecting data and extending the buffer, the priority of the\n  items must be updated;\n- After computing the loss and getting a \"priority signal\" from it, we must\n  update again the priority of the items in the buffer.\n  This requires us to keep track of the indices.\n\nThis drastically hampers the reusability of the buffer: if one is to write\na training script where both a prioritized and a regular buffer can be\ncreated, she must add a considerable amount of control flow to make sure\nthat the appropriate methods are called at the appropriate place, if and\nonly if a prioritized buffer is being used.\n\nLet us see how we can improve this with TensorDict. We saw that the\n:class:`torchrl.data.TensorDictReplayBuffer` returns data augmented with\ntheir relative storage indices. One feature we did not mention is that\nthis class also ensures that the priority\nsignal is automatically parsed to the prioritized sampler if present during\nextension.\n\nThe combination of these features simplifies things in several ways:\n- When extending the buffer, the priority signal will automatically be\n  parsed if present and the priority will accurately be assigned;\n- The indices will be stored in the sampled tensordicts, making it easy to\n  update the priority after the loss computation.\n- When computing the loss, the priority signal will be registered in the\n  tensordict passed to the loss module, making it possible to update the\n  weights without effort:\n\n     >>> data = replay_buffer.sample()\n     >>> loss_val = loss_module(data)\n     >>> replay_buffer.update_tensordict_priority(data)\n\nThe following code illustrates these concepts. We build a replay buffer with\na prioritized sampler, and indicate in the constructor the entry where\nthe priority signal should be fetched:\n\n"
      ]
    },
    {
      "cell_type": "code",
      "execution_count": null,
      "metadata": {
        "collapsed": false
      },
      "outputs": [],
      "source": [
        "rb = TensorDictReplayBuffer(\n    storage=ListStorage(size),\n    sampler=PrioritizedSampler(size, alpha=0.8, beta=1.1),\n    priority_key=\"td_error\",\n    batch_size=1024,\n)"
      ]
    },
    {
      "cell_type": "markdown",
      "metadata": {},
      "source": [
        "Let us choose a priority signal that is proportional to the storage index:\n\n\n"
      ]
    },
    {
      "cell_type": "code",
      "execution_count": null,
      "metadata": {
        "collapsed": false
      },
      "outputs": [],
      "source": [
        "data[\"td_error\"] = torch.arange(data.numel())\n\nrb.extend(data)\n\nsample = rb.sample()"
      ]
    },
    {
      "cell_type": "markdown",
      "metadata": {},
      "source": [
        "higher indices should occur more frequently:\n\n"
      ]
    },
    {
      "cell_type": "code",
      "execution_count": null,
      "metadata": {
        "collapsed": false
      },
      "outputs": [],
      "source": [
        "from matplotlib import pyplot as plt\n\nplt.hist(sample[\"index\"].numpy())"
      ]
    },
    {
      "cell_type": "markdown",
      "metadata": {},
      "source": [
        "Once we have worked with our sample, we update the priority key using\nthe :meth:`torchrl.data.TensorDictReplayBuffer.update_tensordict_priority`\nmethod.\nFor the sake of showing how this works, let us revert the priority of the\nsampled items:\n\n\n"
      ]
    },
    {
      "cell_type": "code",
      "execution_count": null,
      "metadata": {
        "collapsed": false
      },
      "outputs": [],
      "source": [
        "sample = rb.sample()\nsample[\"td_error\"] = data.numel() - sample[\"index\"]\nrb.update_tensordict_priority(sample)"
      ]
    },
    {
      "cell_type": "markdown",
      "metadata": {},
      "source": [
        "Now, higher indices should occur less frequently:\n\n"
      ]
    },
    {
      "cell_type": "code",
      "execution_count": null,
      "metadata": {
        "collapsed": false
      },
      "outputs": [],
      "source": [
        "sample = rb.sample()\nfrom matplotlib import pyplot as plt\n\nplt.hist(sample[\"index\"].numpy())"
      ]
    },
    {
      "cell_type": "markdown",
      "metadata": {},
      "source": [
        "## Using transforms\n\nThe data stored in a replay buffer may not be ready to be presented to a\nloss module.\nIn some cases, the data produced by a collector can be too heavy to be\nsaved as-is. Examples of this include converting images from ``uint8`` to\nfloating point tensors, or concatenating successive frames when using\ndecision transformers.\n\nData can be processed in and out of a buffer just by appending the\nappropriate transform to it.\nHere are a few examples:\n\n### Saving raw images\n\n``uint8``-typed tensors are comparatively much less memory expensive than\nthe floating point tensors we usually feed to our models. For this reason,\nit can be useful to save the raw images.\nThe following script show how one can build a collector that returns only\nthe raw images but uses the transformed ones for inference, and how these\ntransformations can be recycled in the replay buffer:\n\n"
      ]
    },
    {
      "cell_type": "code",
      "execution_count": null,
      "metadata": {
        "collapsed": false
      },
      "outputs": [],
      "source": [
        "from torchrl.collectors import RandomPolicy, SyncDataCollector\nfrom torchrl.envs import Compose, GrayScale, Resize, ToTensorImage, TransformedEnv\nfrom torchrl.envs.libs.gym import GymEnv\n\nenv = TransformedEnv(\n    GymEnv(\"CartPole-v1\", from_pixels=True),\n    Compose(\n        ToTensorImage(in_keys=[\"pixels\"], out_keys=[\"pixels_trsf\"]),\n        Resize(in_keys=[\"pixels_trsf\"], w=64, h=64),\n        GrayScale(in_keys=[\"pixels_trsf\"]),\n    ),\n)"
      ]
    },
    {
      "cell_type": "markdown",
      "metadata": {},
      "source": [
        "let us have a look at a rollout:\n\n"
      ]
    },
    {
      "cell_type": "code",
      "execution_count": null,
      "metadata": {
        "collapsed": false
      },
      "outputs": [],
      "source": [
        "print(env.rollout(3))"
      ]
    },
    {
      "cell_type": "markdown",
      "metadata": {},
      "source": [
        "We have just created an environment that produces pixels. These images\nare processed to be fed to a policy.\nWe would like to store the raw images, and not their transforms.\nTo do this, we will append a transform to the collector to select the keys\nwe want to see appearing:\n\n"
      ]
    },
    {
      "cell_type": "code",
      "execution_count": null,
      "metadata": {
        "collapsed": false
      },
      "outputs": [],
      "source": [
        "from torchrl.envs import ExcludeTransform\n\ncollector = SyncDataCollector(\n    env,\n    RandomPolicy(env.action_spec),\n    frames_per_batch=10,\n    total_frames=1000,\n    postproc=ExcludeTransform(\"pixels_trsf\", (\"next\", \"pixels_trsf\"), \"collector\"),\n)"
      ]
    },
    {
      "cell_type": "markdown",
      "metadata": {},
      "source": [
        "Let us have a look at a batch of data, and control that the\n``\"pixels_trsf\"`` keys have been discarded:\n\n"
      ]
    },
    {
      "cell_type": "code",
      "execution_count": null,
      "metadata": {
        "collapsed": false
      },
      "outputs": [],
      "source": [
        "for data in collector:\n    print(data)\n    break"
      ]
    },
    {
      "cell_type": "markdown",
      "metadata": {},
      "source": [
        "We create a replay buffer with the same transform as the environment.\nThere is, however, a detail that needs to be addressed: transforms\nused without environments are oblivious to the data structure.\nWhen appending a transform to an environment, the data in the ``\"next\"``\nnested tensordict is transformed first and then copied at the root during\nthe rollout execution. When working with static data, this is not the case.\nNevertheless, our data comes with a nested \"next\" tensordict that will be\nignored by our transform if we don't explicitly instruct it to take care of\nit. We manually add these keys to the transform:\n\n"
      ]
    },
    {
      "cell_type": "code",
      "execution_count": null,
      "metadata": {
        "collapsed": false
      },
      "outputs": [],
      "source": [
        "t = Compose(\n    ToTensorImage(\n        in_keys=[\"pixels\", (\"next\", \"pixels\")],\n        out_keys=[\"pixels_trsf\", (\"next\", \"pixels_trsf\")],\n    ),\n    Resize(in_keys=[\"pixels_trsf\", (\"next\", \"pixels_trsf\")], w=64, h=64),\n    GrayScale(in_keys=[\"pixels_trsf\", (\"next\", \"pixels_trsf\")]),\n)\nrb = TensorDictReplayBuffer(storage=LazyMemmapStorage(1000), transform=t, batch_size=16)\nrb.extend(data)"
      ]
    },
    {
      "cell_type": "markdown",
      "metadata": {},
      "source": [
        "We can check that a ``sample`` method sees the transformed images reappear:\n\n\n"
      ]
    },
    {
      "cell_type": "code",
      "execution_count": null,
      "metadata": {
        "collapsed": false
      },
      "outputs": [],
      "source": [
        "print(rb.sample())"
      ]
    },
    {
      "cell_type": "markdown",
      "metadata": {},
      "source": [
        "### A more complex examples: using CatFrames\n\nThe :class:`torchrl.envs.CatFrames` transform unfolds the observations\nthrough time, creating a n-back memory of past events that allow the model\nto take the past events into account (in the case of POMDPs or with\nrecurrent policies such as Decision Transformers). Storing these concatenated\nframes can consume a considerable amount of memory. It can also be\nproblematic when the n-back window needs to be different (usually longer)\nduring training and inference. We solve this problem by executing the\n``CatFrames`` transform separately in the two phases.\n\n"
      ]
    },
    {
      "cell_type": "code",
      "execution_count": null,
      "metadata": {
        "collapsed": false
      },
      "outputs": [],
      "source": [
        "from torchrl.envs import CatFrames, UnsqueezeTransform"
      ]
    },
    {
      "cell_type": "markdown",
      "metadata": {},
      "source": [
        "We create a standard list of transforms for environments that return pixel-based\nobservations:\n\n"
      ]
    },
    {
      "cell_type": "code",
      "execution_count": null,
      "metadata": {
        "collapsed": false
      },
      "outputs": [],
      "source": [
        "env = TransformedEnv(\n    GymEnv(\"CartPole-v1\", from_pixels=True),\n    Compose(\n        ToTensorImage(in_keys=[\"pixels\"], out_keys=[\"pixels_trsf\"]),\n        Resize(in_keys=[\"pixels_trsf\"], w=64, h=64),\n        GrayScale(in_keys=[\"pixels_trsf\"]),\n        UnsqueezeTransform(-4, in_keys=[\"pixels_trsf\"]),\n        CatFrames(dim=-4, N=4, in_keys=[\"pixels_trsf\"]),\n    ),\n)\ncollector = SyncDataCollector(\n    env,\n    RandomPolicy(env.action_spec),\n    frames_per_batch=10,\n    total_frames=1000,\n)\nfor data in collector:\n    print(data)\n    break"
      ]
    },
    {
      "cell_type": "markdown",
      "metadata": {},
      "source": [
        "The buffer transform looks pretty much like the environment one, but with\nextra ``(\"next\", ...)`` keys like before:\n\n\n"
      ]
    },
    {
      "cell_type": "code",
      "execution_count": null,
      "metadata": {
        "collapsed": false
      },
      "outputs": [],
      "source": [
        "t = Compose(\n    ToTensorImage(\n        in_keys=[\"pixels\", (\"next\", \"pixels\")],\n        out_keys=[\"pixels_trsf\", (\"next\", \"pixels_trsf\")],\n    ),\n    Resize(in_keys=[\"pixels_trsf\", (\"next\", \"pixels_trsf\")], w=64, h=64),\n    GrayScale(in_keys=[\"pixels_trsf\", (\"next\", \"pixels_trsf\")]),\n    CatFrames(dim=-4, N=4, in_keys=[\"pixels_trsf\", (\"next\", \"pixels_trsf\")]),\n)\nrb = TensorDictReplayBuffer(storage=LazyMemmapStorage(size), transform=t, batch_size=16)\ndata_exclude = data.exclude(\"pixels_trsf\", (\"next\", \"pixels_trsf\"))\nrb.add(data_exclude)"
      ]
    },
    {
      "cell_type": "markdown",
      "metadata": {},
      "source": [
        "Let us sample one element from the buffer. The shape of the transformed\npixel keys should have a length of 4 along the 4th dimension starting from\nthe end:\n\n\n"
      ]
    },
    {
      "cell_type": "code",
      "execution_count": null,
      "metadata": {
        "collapsed": false
      },
      "outputs": [],
      "source": [
        "s = rb.sample(1)  # the buffer has only one element\nprint(s)"
      ]
    },
    {
      "cell_type": "markdown",
      "metadata": {},
      "source": [
        "After a bit of processing (excluding non-used keys etc), we see that the\ndata generated online and offline match!\n\n"
      ]
    },
    {
      "cell_type": "code",
      "execution_count": null,
      "metadata": {
        "collapsed": false
      },
      "outputs": [],
      "source": [
        "assert (data.exclude(\"collector\") == s.squeeze(0).exclude(\"index\", \"collector\")).all()"
      ]
    },
    {
      "cell_type": "markdown",
      "metadata": {},
      "source": [
        "## Conclusion\n\nWe have seen how a replay buffer can be used in TorchRL, from its simplest\nusage to more advanced ones where the data need to be transformed or stored\nin particular ways.\nYou should now be able to:\n\n- Create a Replay Buffer, customize its storage, sampler and transforms;\n- Choose the best storage type for your problem (list, memory or disk-based);\n- Minimize the memory footprint of your buffer.\n\n\n"
      ]
    }
  ],
  "metadata": {
    "kernelspec": {
      "display_name": "Python 3",
      "language": "python",
      "name": "python3"
    },
    "language_info": {
      "codemirror_mode": {
        "name": "ipython",
        "version": 3
      },
      "file_extension": ".py",
      "mimetype": "text/x-python",
      "name": "python",
      "nbconvert_exporter": "python",
      "pygments_lexer": "ipython3",
      "version": "3.8.18"
    }
  },
  "nbformat": 4,
  "nbformat_minor": 0
}